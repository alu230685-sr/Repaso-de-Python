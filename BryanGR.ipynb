{
  "nbformat": 4,
  "nbformat_minor": 0,
  "metadata": {
    "colab": {
      "provenance": [],
      "authorship_tag": "ABX9TyMcs1Id131jss+vgShxMrtT",
      "include_colab_link": true
    },
    "kernelspec": {
      "name": "python3",
      "display_name": "Python 3"
    },
    "language_info": {
      "name": "python"
    }
  },
  "cells": [
    {
      "cell_type": "markdown",
      "metadata": {
        "id": "view-in-github",
        "colab_type": "text"
      },
      "source": [
        "<a href=\"https://colab.research.google.com/github/alu230685-sr/Repaso-de-Python/blob/main/BryanGR.ipynb\" target=\"_parent\"><img src=\"https://colab.research.google.com/assets/colab-badge.svg\" alt=\"Open In Colab\"/></a>"
      ]
    },
    {
      "cell_type": "markdown",
      "source": [
        "realizar un programa que permita capturar tu nombre y lo imprima seguido de una bienvenida"
      ],
      "metadata": {
        "id": "5_vY4aER_O7e"
      }
    },
    {
      "cell_type": "code",
      "source": [
        "nombre = input (\"ingresa tu nombre: \")\n",
        "print(f\"¡bienvenido/o a clase,{nombre}!\")"
      ],
      "metadata": {
        "colab": {
          "base_uri": "https://localhost:8080/"
        },
        "id": "87UbpRzc_pUS",
        "outputId": "70be4bef-e284-4b6c-ff22-73d8e2deca14"
      },
      "execution_count": 4,
      "outputs": [
        {
          "output_type": "stream",
          "name": "stdout",
          "text": [
            "ingresa tu nombre: bryan\n",
            "¡bienvenido/o a clase,bryan!\n"
          ]
        }
      ]
    },
    {
      "cell_type": "code",
      "execution_count": null,
      "metadata": {
        "id": "2_-HHVi4-51Y"
      },
      "outputs": [],
      "source": []
    },
    {
      "cell_type": "markdown",
      "source": [
        "realizar un programa que permita capturar 2 numeros enteros e imprima la suma,resta,multiplicacion y la divicion entre ellos"
      ],
      "metadata": {
        "id": "lwCdKEB8C7FL"
      }
    },
    {
      "cell_type": "code",
      "source": [
        "num1=int(input(\"captura un numero\"))\n",
        "num2=int(input(\"captura un numero\"))\n",
        "s=num1+num2\n",
        "print(\"la suma es\",s)\n",
        "r=num1-num2\n",
        "print(\"la resta es\",r)\n",
        "m=num1*num2\n",
        "print(\"la multiplicacion es\",m)\n",
        "d=num1/num2\n",
        "print(\"la divicion es\",d)"
      ],
      "metadata": {
        "colab": {
          "base_uri": "https://localhost:8080/"
        },
        "id": "xYm2GEdbDSos",
        "outputId": "59076811-3782-4fb2-931f-304c3a22c1e4"
      },
      "execution_count": 5,
      "outputs": [
        {
          "output_type": "stream",
          "name": "stdout",
          "text": [
            "captura un numero10\n",
            "captura un numero30\n",
            "la suma es 40\n",
            "la resta es -20\n",
            "la multiplicacion es 300\n",
            "la divicion es 0.3333333333333333\n"
          ]
        }
      ]
    }
  ]
}