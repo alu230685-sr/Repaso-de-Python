{
  "nbformat": 4,
  "nbformat_minor": 0,
  "metadata": {
    "colab": {
      "provenance": [],
      "authorship_tag": "ABX9TyM7WzKy916sUiGxlQNq6doH",
      "include_colab_link": true
    },
    "kernelspec": {
      "name": "python3",
      "display_name": "Python 3"
    },
    "language_info": {
      "name": "python"
    }
  },
  "cells": [
    {
      "cell_type": "markdown",
      "metadata": {
        "id": "view-in-github",
        "colab_type": "text"
      },
      "source": [
        "<a href=\"https://colab.research.google.com/github/alu230685-sr/Repaso-de-Python/blob/main/BryanGR.ipynb\" target=\"_parent\"><img src=\"https://colab.research.google.com/assets/colab-badge.svg\" alt=\"Open In Colab\"/></a>"
      ]
    },
    {
      "cell_type": "markdown",
      "source": [
        "realizar un programa que permita capturar tu nombre y lo imprima seguido de una bienvenida"
      ],
      "metadata": {
        "id": "5_vY4aER_O7e"
      }
    },
    {
      "cell_type": "code",
      "source": [
        "nombre = input (\"ingresa tu nombre: \")\n",
        "print(f\"¡bienvenido/o a clase,{nombre}!\")"
      ],
      "metadata": {
        "colab": {
          "base_uri": "https://localhost:8080/"
        },
        "id": "87UbpRzc_pUS",
        "outputId": "70be4bef-e284-4b6c-ff22-73d8e2deca14"
      },
      "execution_count": null,
      "outputs": [
        {
          "output_type": "stream",
          "name": "stdout",
          "text": [
            "ingresa tu nombre: bryan\n",
            "¡bienvenido/o a clase,bryan!\n"
          ]
        }
      ]
    },
    {
      "cell_type": "code",
      "execution_count": null,
      "metadata": {
        "id": "2_-HHVi4-51Y"
      },
      "outputs": [],
      "source": []
    },
    {
      "cell_type": "markdown",
      "source": [
        "realizar un programa que permita capturar 2 numeros enteros e imprima la suma,resta,multiplicacion y la divicion entre ellos"
      ],
      "metadata": {
        "id": "lwCdKEB8C7FL"
      }
    },
    {
      "cell_type": "code",
      "source": [
        "num1=int(input(\"captura un numero\"))\n",
        "num2=int(input(\"captura un numero\"))\n",
        "s=num1+num2\n",
        "print(\"la suma es\",s)\n",
        "r=num1-num2\n",
        "print(\"la resta es\",r)\n",
        "m=num1*num2\n",
        "print(\"la multiplicacion es\",m)\n",
        "d=num1/num2\n",
        "print(\"la divicion es\",d)"
      ],
      "metadata": {
        "colab": {
          "base_uri": "https://localhost:8080/"
        },
        "id": "xYm2GEdbDSos",
        "outputId": "59076811-3782-4fb2-931f-304c3a22c1e4"
      },
      "execution_count": null,
      "outputs": [
        {
          "output_type": "stream",
          "name": "stdout",
          "text": [
            "captura un numero10\n",
            "captura un numero30\n",
            "la suma es 40\n",
            "la resta es -20\n",
            "la multiplicacion es 300\n",
            "la divicion es 0.3333333333333333\n"
          ]
        }
      ]
    },
    {
      "cell_type": "markdown",
      "source": [
        "Realizar un programa en python que te permita capturar 3 números enteros e imprima cual de los 3 es el mayor"
      ],
      "metadata": {
        "id": "ERCV0IcI_Rvn"
      }
    },
    {
      "cell_type": "code",
      "source": [
        "num1=int(input(\"ingresa el primer numero\"))\n",
        "num2=int(input(\"ingresa el segundo numero\"))\n",
        "num3=int(input(\"ingresa el tercer numero\"))\n",
        "if num1 >= num2 and num1 >= num3:\n",
        "  mayor = num1\n",
        "elif num2 >= num1 and num2 >= num3:\n",
        "    mayor = num2\n",
        "else:\n",
        "      mayor =num3\n",
        "print(f\"el numero mayor es: {mayor}\")"
      ],
      "metadata": {
        "colab": {
          "base_uri": "https://localhost:8080/"
        },
        "id": "olQmtOr5_X4-",
        "outputId": "eb484dfd-73a3-4215-e907-41374f6cdc48"
      },
      "execution_count": 6,
      "outputs": [
        {
          "output_type": "stream",
          "name": "stdout",
          "text": [
            "ingresa el primer numero50\n",
            "ingresa el segundo numero30\n",
            "ingresa el tercer numero10\n",
            "el numero mayor es: 50\n"
          ]
        }
      ]
    },
    {
      "cell_type": "markdown",
      "source": [
        "Realizar un programa en python mediante el cual calcules el total de caracteres que tiene un nombre capturado desde el teclado."
      ],
      "metadata": {
        "id": "-REVobI-_fe-"
      }
    },
    {
      "cell_type": "code",
      "source": [
        "nombre = input(\"ingresa un nombre: \")\n",
        "total_caracteres = len(nombre)\n",
        "print(f\"el nombre tiene: {total_caracteres} caracteres.\")\n"
      ],
      "metadata": {
        "colab": {
          "base_uri": "https://localhost:8080/"
        },
        "id": "b1Orp8_f_i1V",
        "outputId": "09afa723-c08b-421a-f8e6-06e8a67e4ded"
      },
      "execution_count": 7,
      "outputs": [
        {
          "output_type": "stream",
          "name": "stdout",
          "text": [
            "ingresa un nombre: bryan\n",
            "el nombre tiene: 5 caracteres.\n"
          ]
        }
      ]
    },
    {
      "cell_type": "markdown",
      "source": [
        "Realizar un programa en python que permita imprimir los 7 días de la semana."
      ],
      "metadata": {
        "id": "sVmD4TZC_j0N"
      }
    },
    {
      "cell_type": "code",
      "source": [
        "dias_semana = (\"lunes\",\"martes\",\"miercoles\",\"jueves\",\"viernes\",\"sabado\",\"domingo\")\n",
        "print(\"los 7 dias de la semana son: \")\n",
        "for dia in dias_semana:\n",
        "    print (dia)\n",
        "\n"
      ],
      "metadata": {
        "colab": {
          "base_uri": "https://localhost:8080/"
        },
        "id": "622iXP64_nut",
        "outputId": "a227ea2e-7d4f-468d-be12-6442ee37c343"
      },
      "execution_count": 13,
      "outputs": [
        {
          "output_type": "stream",
          "name": "stdout",
          "text": [
            "los 7 dias de la semana son: \n",
            "lunes\n",
            "martes\n",
            "miercoles\n",
            "jueves\n",
            "viernes\n",
            "sabado\n",
            "domingo\n"
          ]
        }
      ]
    }
  ]
}